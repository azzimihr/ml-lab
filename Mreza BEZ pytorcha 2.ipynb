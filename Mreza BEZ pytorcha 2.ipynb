{
  "nbformat": 4,
  "nbformat_minor": 0,
  "metadata": {
    "colab": {
      "provenance": [],
      "include_colab_link": true
    },
    "kernelspec": {
      "name": "python3",
      "display_name": "Python 3"
    },
    "language_info": {
      "name": "python"
    }
  },
  "cells": [
    {
      "cell_type": "markdown",
      "metadata": {
        "id": "view-in-github",
        "colab_type": "text"
      },
      "source": [
        "<a href=\"https://colab.research.google.com/github/azzimihr/ml-lab/blob/main/Mreza%20BEZ%20pytorcha%202.ipynb\" target=\"_parent\"><img src=\"https://colab.research.google.com/assets/colab-badge.svg\" alt=\"Open In Colab\"/></a>"
      ]
    },
    {
      "cell_type": "code",
      "execution_count": 2,
      "metadata": {
        "id": "W_WHYuyvxMU0"
      },
      "outputs": [],
      "source": [
        "import numpy as np\n",
        "import pandas as pd\n",
        "d = np.array(pd.read_csv('sample_data/mnist_train_small.csv'))"
      ]
    },
    {
      "cell_type": "code",
      "source": [
        "np.random.shuffle(d) # shuffle before split\n",
        "m, n = d.shape\n",
        "train = d[1000:m].T\n",
        "Y = train[0]\n",
        "X = train[1:n] / 255 # normalize\n",
        "Xt = X.T\n",
        "lr = 0.66 / m # learning rate\n",
        "\n",
        "oh = np.zeros((Y.size, Y.max() + 1))  # one-hot encoding\n",
        "oh[np.arange(Y.size), Y] = 1\n",
        "oh = oh.T\n",
        "\n",
        "W1 = np.random.rand(10, 784) - 0.5  # init\n",
        "b1 = np.random.rand(10, 1) - 0.5\n",
        "W2 = np.random.rand(10, 10) - 0.5\n",
        "b2 = np.random.rand(10, 1) - 0.5\n",
        "\n",
        "for i in range(500): # iteration count\n",
        "\n",
        "    # FORWARD\n",
        "    Z1 = W1.dot(X) + b1\n",
        "    A1 = np.maximum(Z1, 0) #ReLU\n",
        "    Z2 = W2.dot(A1) + b2\n",
        "    A2 = np.exp(Z2) / sum(np.exp(Z2)) #Softmax\n",
        "\n",
        "    # BACK\n",
        "    dZ2 = A2 - oh\n",
        "    dZ1 = W2.T.dot(dZ2) * (Z1>0)\n",
        "\n",
        "    # UPDATE\n",
        "    W1 -= lr * dZ1.dot(Xt)   # dW1\n",
        "    b1 -= lr * np.sum(dZ1)   # db1\n",
        "    W2 -= lr * dZ2.dot(A1.T) # dW2\n",
        "    b2 -= lr * np.sum(dZ2)   # db2\n",
        "\n",
        "    if i % 25 == 0:\n",
        "        print(i, np.sum(np.argmax(A2, 0) == Y) / Y.size) # accuracy"
      ],
      "metadata": {
        "id": "nnbQZtMAxpvy",
        "colab": {
          "base_uri": "https://localhost:8080/"
        },
        "outputId": "bbbd5c21-1e96-4dec-d33d-48c8bd14aa44"
      },
      "execution_count": 14,
      "outputs": [
        {
          "output_type": "stream",
          "name": "stdout",
          "text": [
            "0 0.10274224959208379\n",
            "25 0.6441917995683983\n",
            "50 0.7411969051002685\n",
            "75 0.8080951629033107\n",
            "100 0.8360440023159114\n",
            "125 0.8537291436391389\n",
            "150 0.8691510079477868\n",
            "175 0.8753092268014107\n",
            "200 0.8855202905416074\n",
            "225 0.8905731880625296\n",
            "250 0.89452076425075\n",
            "275 0.8968893099636823\n",
            "300 0.9050476340860045\n",
            "325 0.9025738196747197\n",
            "350 0.9104163377019843\n",
            "375 0.908047791989052\n",
            "400 0.9146797199852624\n",
            "425 0.9092057476709301\n",
            "450 0.9194694457603032\n",
            "475 0.9121532712248013\n"
          ]
        }
      ]
    }
  ]
}