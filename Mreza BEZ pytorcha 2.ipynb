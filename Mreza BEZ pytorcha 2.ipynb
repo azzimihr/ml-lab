{
  "nbformat": 4,
  "nbformat_minor": 0,
  "metadata": {
    "colab": {
      "provenance": [],
      "include_colab_link": true
    },
    "kernelspec": {
      "name": "python3",
      "display_name": "Python 3"
    },
    "language_info": {
      "name": "python"
    }
  },
  "cells": [
    {
      "cell_type": "markdown",
      "metadata": {
        "id": "view-in-github",
        "colab_type": "text"
      },
      "source": [
        "<a href=\"https://colab.research.google.com/github/azzimihr/ml-lab/blob/main/Mreza%20BEZ%20pytorcha%202.ipynb\" target=\"_parent\"><img src=\"https://colab.research.google.com/assets/colab-badge.svg\" alt=\"Open In Colab\"/></a>"
      ]
    },
    {
      "cell_type": "code",
      "execution_count": null,
      "metadata": {
        "id": "W_WHYuyvxMU0"
      },
      "outputs": [],
      "source": [
        "import numpy as np\n",
        "import pandas as pd\n",
        "d = np.array(pd.read_csv('sample_data/mnist_train_small.csv'))"
      ]
    },
    {
      "cell_type": "code",
      "source": [
        "m, n = d.shape\n",
        "np.random.shuffle(d) # shuffle before split\n",
        "\n",
        "train = d[1000:m].T\n",
        "Y = train[0]\n",
        "X = train[1:n] / 255 # normalize\n",
        "Xt = X.T\n",
        "lr=0.10 # learning rate\n",
        "\n",
        "oh = np.zeros((Y.size, Y.max() + 1))  # one-hot encoding\n",
        "oh[np.arange(Y.size), Y] = 1\n",
        "oh = oh.T\n",
        "\n",
        "W1 = np.random.rand(10, 784) - 0.5  # init\n",
        "b1 = np.random.rand(10, 1) - 0.5\n",
        "W2 = np.random.rand(10, 10) - 0.5\n",
        "b2 = np.random.rand(10, 1) - 0.5\n",
        "\n",
        "for i in range(500): # iteration count\n",
        "\n",
        "    # FORWARD\n",
        "    Z1 = W1.dot(X) + b1\n",
        "    A1 = np.maximum(Z1, 0) #ReLU\n",
        "    Z2 = W2.dot(A1) + b2\n",
        "    A2 = np.exp(Z2) / sum(np.exp(Z2)) #Softmax\n",
        "\n",
        "    # BACK\n",
        "    dZ2 = A2 - oh\n",
        "    dZ1 = W2.T.dot(dZ2) * (Z1>0)\n",
        "\n",
        "    # UPDATE\n",
        "    W1 -= lr * dZ1.dot(Xt) / m   # dW1\n",
        "    b1 -= lr * np.sum(dZ1) / m   # db1\n",
        "    W2 -= lr * dZ2.dot(A1.T) / m # dW2\n",
        "    b2 -= lr * np.sum(dZ2) / m   # db2\n",
        "\n",
        "    if i % 25 == 0:\n",
        "        print(i, np.sum(np.argmax(A2, 0) == Y) / Y.size) # accuracy"
      ],
      "metadata": {
        "id": "nnbQZtMAxpvy",
        "colab": {
          "base_uri": "https://localhost:8080/",
          "height": 367
        },
        "outputId": "2a16daa8-aa28-4e07-b054-440164641851"
      },
      "execution_count": null,
      "outputs": [
        {
          "output_type": "stream",
          "name": "stdout",
          "text": [
            "0 0.10174219695773462\n",
            "25 0.37228275172377495\n",
            "50 0.49239433654402864\n",
            "75 0.5729775251329017\n",
            "100 0.6348755197641981\n",
            "125 0.6716669298384126\n",
            "150 0.6970893204905522\n",
            "175 0.717721985367651\n",
            "200 0.7348807831991158\n"
          ]
        },
        {
          "output_type": "error",
          "ename": "KeyboardInterrupt",
          "evalue": "",
          "traceback": [
            "\u001b[0;31m---------------------------------------------------------------------------\u001b[0m",
            "\u001b[0;31mKeyboardInterrupt\u001b[0m                         Traceback (most recent call last)",
            "\u001b[0;32m<ipython-input-6-d21c1601d979>\u001b[0m in \u001b[0;36m<cell line: 19>\u001b[0;34m()\u001b[0m\n\u001b[1;32m     19\u001b[0m \u001b[0;32mfor\u001b[0m \u001b[0mi\u001b[0m \u001b[0;32min\u001b[0m \u001b[0mrange\u001b[0m\u001b[0;34m(\u001b[0m\u001b[0;36m500\u001b[0m\u001b[0;34m)\u001b[0m\u001b[0;34m:\u001b[0m \u001b[0;31m# iteration count\u001b[0m\u001b[0;34m\u001b[0m\u001b[0;34m\u001b[0m\u001b[0m\n\u001b[1;32m     20\u001b[0m     \u001b[0;31m# FORWARD\u001b[0m\u001b[0;34m\u001b[0m\u001b[0;34m\u001b[0m\u001b[0m\n\u001b[0;32m---> 21\u001b[0;31m     \u001b[0mZ1\u001b[0m \u001b[0;34m=\u001b[0m \u001b[0mW1\u001b[0m\u001b[0;34m.\u001b[0m\u001b[0mdot\u001b[0m\u001b[0;34m(\u001b[0m\u001b[0mX\u001b[0m\u001b[0;34m)\u001b[0m \u001b[0;34m+\u001b[0m \u001b[0mb1\u001b[0m\u001b[0;34m\u001b[0m\u001b[0;34m\u001b[0m\u001b[0m\n\u001b[0m\u001b[1;32m     22\u001b[0m     \u001b[0mA1\u001b[0m \u001b[0;34m=\u001b[0m \u001b[0mnp\u001b[0m\u001b[0;34m.\u001b[0m\u001b[0mmaximum\u001b[0m\u001b[0;34m(\u001b[0m\u001b[0mZ1\u001b[0m\u001b[0;34m,\u001b[0m \u001b[0;36m0\u001b[0m\u001b[0;34m)\u001b[0m \u001b[0;31m#ReLU\u001b[0m\u001b[0;34m\u001b[0m\u001b[0;34m\u001b[0m\u001b[0m\n\u001b[1;32m     23\u001b[0m     \u001b[0mZ2\u001b[0m \u001b[0;34m=\u001b[0m \u001b[0mW2\u001b[0m\u001b[0;34m.\u001b[0m\u001b[0mdot\u001b[0m\u001b[0;34m(\u001b[0m\u001b[0mA1\u001b[0m\u001b[0;34m)\u001b[0m \u001b[0;34m+\u001b[0m \u001b[0mb2\u001b[0m\u001b[0;34m\u001b[0m\u001b[0;34m\u001b[0m\u001b[0m\n",
            "\u001b[0;31mKeyboardInterrupt\u001b[0m: "
          ]
        }
      ]
    }
  ]
}