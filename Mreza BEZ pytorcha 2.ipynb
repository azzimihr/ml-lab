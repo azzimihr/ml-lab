{
  "nbformat": 4,
  "nbformat_minor": 0,
  "metadata": {
    "colab": {
      "provenance": [],
      "include_colab_link": true
    },
    "kernelspec": {
      "name": "python3",
      "display_name": "Python 3"
    },
    "language_info": {
      "name": "python"
    }
  },
  "cells": [
    {
      "cell_type": "markdown",
      "metadata": {
        "id": "view-in-github",
        "colab_type": "text"
      },
      "source": [
        "<a href=\"https://colab.research.google.com/github/azzimihr/ml-lab/blob/main/Mreza%20BEZ%20pytorcha%202.ipynb\" target=\"_parent\"><img src=\"https://colab.research.google.com/assets/colab-badge.svg\" alt=\"Open In Colab\"/></a>"
      ]
    },
    {
      "cell_type": "code",
      "execution_count": 1,
      "metadata": {
        "id": "W_WHYuyvxMU0"
      },
      "outputs": [],
      "source": [
        "import numpy as np\n",
        "import pandas as pd\n",
        "d = np.array(pd.read_csv('sample_data/mnist_train_small.csv'))"
      ]
    },
    {
      "cell_type": "code",
      "source": [
        "np.random.shuffle(d) # shuffle before split\n",
        "m, n = d.shape\n",
        "train = d[1000:m].T\n",
        "Y = train[0]\n",
        "X = train[1:n] / 255 # normalize\n",
        "Xt = X.T\n",
        "lr = 0.66 / m # learning rate\n",
        "\n",
        "oh = np.zeros((Y.size, Y.max() + 1))  # one-hot encoding\n",
        "oh[np.arange(Y.size), Y] = 1\n",
        "oh = oh.T\n",
        "\n",
        "W1, b1, W2, b2 = [np.random.rand(10,v)-0.5  for v in  [784, 1, 10, 1]]  # init\n",
        "\n",
        "for i in range(500): # iteration count\n",
        "\n",
        "    # FORWARD\n",
        "    Z1  = W1.dot(X) + b1\n",
        "    A1  = np.maximum(Z1, 0) #ReLU\n",
        "    Z2e = np.exp(W2.dot(A1) + b2)\n",
        "    A2  = Z2e / sum(Z2e) #Softmax\n",
        "\n",
        "    # BACK\n",
        "    dZ2 = A2 - oh\n",
        "    dZ1 = W2.T.dot(dZ2) * (Z1>0)\n",
        "\n",
        "    # UPDATE\n",
        "    W1 -= lr * dZ1.dot(Xt)\n",
        "    b1 -= lr * np.sum(dZ1)\n",
        "    W2 -= lr * dZ2.dot(A1.T)\n",
        "    b2 -= lr * np.sum(dZ2)\n",
        "\n",
        "    not i%25 and print(i, np.sum(np.argmax(A2, 0) == Y) / Y.size) # accuracy"
      ],
      "metadata": {
        "id": "nnbQZtMAxpvy",
        "colab": {
          "base_uri": "https://localhost:8080/",
          "height": 280
        },
        "outputId": "a0056fc3-d7ee-4636-ed0d-0b6dc2af49f1"
      },
      "execution_count": 4,
      "outputs": [
        {
          "output_type": "stream",
          "name": "stdout",
          "text": [
            "0 0.1019527343544397\n",
            "25 0.5556081899047318\n",
            "50 0.6969314174430233\n",
            "75 0.7744091794304964\n"
          ]
        },
        {
          "output_type": "error",
          "ename": "KeyboardInterrupt",
          "evalue": "",
          "traceback": [
            "\u001b[0;31m---------------------------------------------------------------------------\u001b[0m",
            "\u001b[0;31mKeyboardInterrupt\u001b[0m                         Traceback (most recent call last)",
            "\u001b[0;32m<ipython-input-4-535fd3dace28>\u001b[0m in \u001b[0;36m<cell line: 15>\u001b[0;34m()\u001b[0m\n\u001b[1;32m     26\u001b[0m \u001b[0;34m\u001b[0m\u001b[0m\n\u001b[1;32m     27\u001b[0m     \u001b[0;31m# UPDATE\u001b[0m\u001b[0;34m\u001b[0m\u001b[0;34m\u001b[0m\u001b[0m\n\u001b[0;32m---> 28\u001b[0;31m     \u001b[0mW1\u001b[0m \u001b[0;34m-=\u001b[0m \u001b[0mlr\u001b[0m \u001b[0;34m*\u001b[0m \u001b[0mdZ1\u001b[0m\u001b[0;34m.\u001b[0m\u001b[0mdot\u001b[0m\u001b[0;34m(\u001b[0m\u001b[0mXt\u001b[0m\u001b[0;34m)\u001b[0m\u001b[0;34m\u001b[0m\u001b[0;34m\u001b[0m\u001b[0m\n\u001b[0m\u001b[1;32m     29\u001b[0m     \u001b[0mb1\u001b[0m \u001b[0;34m-=\u001b[0m \u001b[0mlr\u001b[0m \u001b[0;34m*\u001b[0m \u001b[0mnp\u001b[0m\u001b[0;34m.\u001b[0m\u001b[0msum\u001b[0m\u001b[0;34m(\u001b[0m\u001b[0mdZ1\u001b[0m\u001b[0;34m)\u001b[0m\u001b[0;34m\u001b[0m\u001b[0;34m\u001b[0m\u001b[0m\n\u001b[1;32m     30\u001b[0m     \u001b[0mW2\u001b[0m \u001b[0;34m-=\u001b[0m \u001b[0mlr\u001b[0m \u001b[0;34m*\u001b[0m \u001b[0mdZ2\u001b[0m\u001b[0;34m.\u001b[0m\u001b[0mdot\u001b[0m\u001b[0;34m(\u001b[0m\u001b[0mA1\u001b[0m\u001b[0;34m.\u001b[0m\u001b[0mT\u001b[0m\u001b[0;34m)\u001b[0m\u001b[0;34m\u001b[0m\u001b[0;34m\u001b[0m\u001b[0m\n",
            "\u001b[0;31mKeyboardInterrupt\u001b[0m: "
          ]
        }
      ]
    }
  ]
}